{
  "cells": [
    {
      "cell_type": "markdown",
      "metadata": {},
      "source": [
        "# 📈 Stock Price Prediction with Streamlit in Google Colab\n",
        "\n",
        "This notebook sets up and runs a Streamlit interface for the PySpark stock prediction system in Google Colab."
      ]
    },
    {
      "cell_type": "markdown",
      "metadata": {},
      "source": [
        "## Step 1: Install Required Packages\n",
        "\n",
        "First, we need to install Streamlit and other dependencies."
      ]
    },
    {
      "cell_type": "code",
      "execution_count": null,
      "metadata": {},
      "outputs": [],
      "source": [
        "# Install required packages\n",
        "!pip install streamlit pyspark pymongo dnspython textblob matplotlib seaborn\n",
        "!apt-get install openjdk-8-jdk-headless -qq > /dev/null"
      ]
    },
    {
      "cell_type": "markdown",
      "metadata": {},
      "source": [
        "## Step 2: Create Streamlit App File\n",
        "\n",
        "Now we'll create the Streamlit app file."
      ]
    },
    {
      "cell_type": "code",
      "execution_count": null,
      "metadata": {},
      "outputs": [],
      "source": [
        "%%writefile streamlit_app.py\n",
        "import streamlit as st\n",
        "import pandas as pd\n",
        "import matplotlib.pyplot as plt\n",
        "import seaborn as sns\n",
        "import os\n",
        "import sys\n",
        "from datetime import datetime, timedelta\n",
        "\n",
        "# Import the predictor class\n",
        "from colab_pyspark_predictor import ColabPySparkStockPredictor, run_colab_prediction\n",
        "\n",
        "# Set page configuration\n",
        "st.set_page_config(\n",
        "    page_title=\"Stock Price Prediction App\",\n",
        "    page_icon=\"📈\",\n",
        "    layout=\"wide\",\n",
        "    initial_sidebar_state=\"expanded\"\n",
        ")\n",
        "\n",
        "# Custom CSS\n",
        "st.markdown(\"\"\"\n",
        "<style>\n",
        ".main-header {\n",
        "    font-size: 2.5rem;\n",
        "    color: #1E88E5;\n",
        "    text-align: center;\n",
        "}\n",
        ".sub-header {\n",
        "    font-size: 1.5rem;\n",
        "    color: #0D47A1;\n",
        "    text-align: center;\n",
        "}\n",
        ".info-text {\n",
        "    font-size: 1.0rem;\n",
        "}\n",
        ".result-container {\n",
        "    background-color: #f0f2f6;\n",
        "    border-radius: 10px;\n",
        "    padding: 20px;\n",
        "    margin: 10px 0px;\n",
        "}\n",
        "</style>\n",
        "\"\"", unsafe_allow_html=True)\n",
        "\n",
        "# App header\n",
        "st.markdown('<p class=\"main-header\">📈 Stock Price Prediction System</p>', unsafe_allow_html=True)\n",
        "st.markdown('<p class=\"sub-header\">Powered by PySpark ML & MongoDB</p>', unsafe_allow_html=True)\n",
        "\n",
        "# Sidebar for inputs\n",
        "st.sidebar.header(\"📊 Prediction Settings\")\n",
        "\n",
        "# Stock ticker input\n",
        "ticker = st.sidebar.text_input(\"Enter Stock Ticker Symbol\", value=\"TSLA\").upper()\n",
        "\n",
        "# Number of days to predict\n",
        "prediction_days = st.sidebar.slider(\"Days to Predict\", min_value=1, max_value=10, value=5)\n",
        "\n",
        "# Advanced settings expander\n",
        "with st.sidebar.expander(\"Advanced Settings\"):\n",
        "    show_debug = st.checkbox(\"Show Debug Information\", value=False)\n",
        "    plot_height = st.slider(\"Plot Height\", min_value=300, max_value=800, value=500)\n",
        "\n",
        "# Run prediction button\n",
        "if st.sidebar.button(\"🚀 Run Prediction\"):\n",
        "    try:\n",
        "        # Show spinner while processing\n",
        "        with st.spinner(f\"Running prediction for {ticker}...\"):\n",
        "            # Create progress bar\n",
        "            progress_bar = st.progress(0)\n",
        "            \n",
        "            # Define a custom progress callback\n",
        "            def update_progress(progress_pct):\n",
        "                progress_bar.progress(progress_pct)\n",
        "            \n",
        "            # Initialize predictor\n",
        "            st.info(\"🔧 Setting up environment and connecting to MongoDB...\")\n",
        "            progress_bar.progress(10)\n",
        "            \n",
        "            # Run the prediction\n",
        "            st.info(f\"📊 Loading and processing {ticker} stock data...\")\n",
        "            progress_bar.progress(30)\n",
        "            \n",
        "            # Run the prediction using the existing function\n",
        "            results = run_colab_prediction(ticker, prediction_days)\n",
        "            progress_bar.progress(100)\n",
        "            \n",
        "            # Display results\n",
        "            st.success(f\"✅ Prediction completed for {ticker}!\")\n",
        "            \n",
        "            # Show prediction summary\n",
        "            st.markdown(\"### 🎯 Prediction Results\")\n",
        "            \n",
        "            # Create a DataFrame from predictions\n",
        "            pred_df = pd.DataFrame(results[\"predictions\"])\n",
        "            \n",
        "            # Display the prediction table\n",
        "            st.table(pred_df)\n",
        "            \n",
        "            # Plot the predictions\n",
        "            st.markdown(\"### 📈 Prediction Chart\")\n",
        "            \n",
        "            # Get the figure from matplotlib\n",
        "            # Note: In a real implementation, you would need to capture the figure\n",
        "            # Here we're recreating a similar visualization\n",
        "            fig, ax = plt.subplots(figsize=(10, 6))\n",
        "            \n",
        "            # Convert date strings to datetime objects\n",
        "            pred_df['date'] = pd.to_datetime(pred_df['date'])\n",
        "            \n",
        "            # Plot the predictions\n",
        "            ax.plot(pred_df['date'], pred_df['predicted_price'], marker='o', linestyle='-', color='red')\n",
        "            ax.set_title(f\"{ticker} Stock Price Prediction\")\n",
        "            ax.set_xlabel(\"Date\")\n",
        "            ax.set_ylabel(\"Price ($)\")\n",
        "            ax.grid(True, alpha=0.3)\n",
        "            \n",
        "            # Display the plot\n",
        "            st.pyplot(fig)\n",
        "            \n",
        "            # Show model performance\n",
        "            st.markdown(\"### 🤖 Model Performance\")\n",
        "            st.write(f\"Model Used: {results['model_used']}\")\n",
        "            st.write(f\"R² Score: {results['model_performance']['r2']:.4f}\")\n",
        "            st.write(f\"RMSE: {results['model_performance']['rmse']:.4f}\")\n",
        "            \n",
        "            # Show features used\n",
        "            if show_debug:\n",
        "                st.markdown(\"### 🔍 Debug Information\")\n",
        "                st.write(\"Features used for prediction:\")\n",
        "                st.write(results[\"features_used\"])\n",
        "    \n",
        "    except Exception as e:\n",
        "        st.error(f\"❌ An error occurred: {str(e)}\")\n",
        "        if show_debug:\n",
        "            st.exception(e)\n",
        "\n",
        "# Instructions for first-time users\n",
        "if not st.session_state.get('button_clicked', False):\n",
        "    st.markdown(\"\"\"## 🚀 Getting Started\n",
        "    \n",
        "    1. Enter a stock ticker symbol in the sidebar (e.g., AAPL, MSFT, GOOGL)\n",
        "    2. Select the number of days to predict\n",
        "    3. Click 'Run Prediction' to start the analysis\n",
        "    4. Wait for the results to appear\n",
        "    \n",
        "    ## 📚 How It Works\n",
        "    \n",
        "    This app uses PySpark ML to predict stock prices based on historical data and Reddit sentiment analysis.\n",
        "    The prediction pipeline includes:\n",
        "    \n",
        "    - Loading stock data from MongoDB Atlas\n",
        "    - Creating technical indicators and features\n",
        "    - Training multiple ML models (Random Forest, GBT, Linear Regression)\n",
        "    - Selecting the best performing model\n",
        "    - Making predictions for future stock prices\n",
        "    \n",
        "    ## 📝 Note\n",
        "    \n",
        "    The first run may take longer as it sets up the PySpark environment.\n",
        "    \"\"\")\n",
        "\n",
        "# Add footer\n",
        "st.sidebar.markdown(\"---\")\n",
        "st.sidebar.markdown(\"© 2023 Financial Trends Project\")"
      ]
    },
    {
      "cell_type": "markdown",
      "metadata": {},
      "source": [
        "## Step 3: Upload Your PySpark Predictor File\n",
        "\n",
        "Make sure to upload your `colab_pyspark_predictor.py` file to this Colab session. You can do this by clicking on the folder icon in the left sidebar, then clicking the upload button."
      ]
    },
    {
      "cell_type": "markdown",
      "metadata": {},
      "source": [
        "## Step 4: Run Streamlit in Colab\n",
        "\n",
        "Now we'll set up and run the Streamlit app using localtunnel."
      ]
    },
    {
      "cell_type": "code",
      "execution_count": null,
      "metadata": {},
      "outputs": [],
      "source": [
        "# Install localtunnel to expose the Streamlit app\n",
        "!npm install -g localtunnel"
      ]
    },
    {
      "cell_type": "code",
      "execution_count": null,
      "metadata": {},
      "outputs": [],
      "source": [
        "# Run Streamlit and expose it with localtunnel\n",
        "!streamlit run streamlit_app.py --server.port 8501 &\n",
        "!sleep 5  # Wait for Streamlit to start\n",
        "!lt --port 8501"
      ]
    },
    {
      "cell_type": "markdown",
      "metadata": {},
      "source": [
        "## Alternative Method: Ngrok\n",
        "\n",
        "If localtunnel doesn't work well, you can try using ngrok instead."
      ]
    },
    {
      "cell_type": "code",
      "execution_count": null,
      "metadata": {},
      "outputs": [],
      "source": [
        "# Install pyngrok\n",
        "!pip install pyngrok"
      ]
    },
    {
      "cell_type": "code",
      "execution_count": null,
      "metadata": {},
      "outputs": [],
      "source": [
        "# Run Streamlit with ngrok\n",
        "from pyngrok import ngrok\n",
        "\n",
        "# Set up ngrok\n",
        "public_url = ngrok.connect(port=8501)\n",
        "print(f'Public URL: {public_url}')\n",
        "\n",
        "# Run Streamlit\n",
        "!streamlit run streamlit_app.py --server.port 8501"
      ]
    },
    {
      "cell_type": "markdown",
      "metadata": {},
      "source": [
        "## Stopping the App\n",
        "\n",
        "When you're done, run the following cell to stop the Streamlit server."
      ]
    },
    {
      "cell_type": "code",
      "execution_count": null,
      "metadata": {},
      "outputs": [],
      "source": [
        "# Stop all background processes\n",
        "!killall streamlit\n",
        "!killall lt\n",
        "\n",
        "# If using ngrok\n",
        "try:\n",
        "    ngrok.kill()\n",
        "except:\n",
        "    pass\n",
        "\n",
        "print(\"Streamlit app stopped.\")"
      ]
    }
  ],
  "metadata": {
    "kernelspec": {
      "display_name": "Python 3",
      "language": "python",
      "name": "python3"
    },
    "language_info": {
      "codemirror_mode": {
        "name": "ipython",
        "version": 3
      },
      "file_extension": ".py",
      "mimetype": "text/x-python",
      "name": "python",
      "nbconvert_exporter": "python",
      "pygments_lexer": "ipython3",
      "version": "3.8.10"
    }
  },
  "nbformat": 4,
  "nbformat_minor": 4
}
